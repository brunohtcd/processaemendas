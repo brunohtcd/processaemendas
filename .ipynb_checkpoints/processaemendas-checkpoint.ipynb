{
 "cells": [
  {
   "cell_type": "code",
   "execution_count": 24,
   "id": "38ed5fd2",
   "metadata": {},
   "outputs": [],
   "source": [
    "import xlwings as xw\n",
    "import pandas as pd"
   ]
  },
  {
   "cell_type": "code",
   "execution_count": 25,
   "id": "b90582f9",
   "metadata": {},
   "outputs": [],
   "source": [
    "df = \"\"\n",
    "df_criterio = \"\"\n",
    "df_bancada = \"\""
   ]
  },
  {
   "cell_type": "code",
   "execution_count": 26,
   "id": "480e9cf9",
   "metadata": {},
   "outputs": [],
   "source": [
    "# Função para verificar se a emenda está na 'Bancada Impositiva - Consulta'\n",
    "def checa_bancada_impositiva(emenda, df_bancada):\n",
    "    \n",
    "    # Verifica se a emenda está presente na coluna 'Emenda' da aba 'Bancada Impositiva - Consulta'\n",
    "    return emenda in df_bancada['Emenda'].values"
   ]
  },
  {
   "cell_type": "code",
   "execution_count": 27,
   "id": "cb8d9367",
   "metadata": {},
   "outputs": [],
   "source": [
    "# Função para calcular a 'Decisão' de acordo com a lógica fornecida\n",
    "def calcula_decisao(row, df_bancada):\n",
    "    # Se a soma de 'Atendimento Setorial' não for zero\n",
    "    if row['Soma Atendimento Setorial'] != 0:\n",
    "        # Se a soma de 'Atendimento Setorial' for igual à soma de 'Valor Solicitado'\n",
    "        if row['Soma Atendimento Setorial'] == row['Soma Valor Solicitado']:\n",
    "            return 1  # Retorna 1 se forem iguais\n",
    "        else:\n",
    "            return 2  # Retorna 2 se forem diferentes\n",
    "    else:\n",
    "        # Se a soma de 'Atendimento Setorial' for zero, verificar a presença da emenda na aba 'Bancada Impositiva - Consulta'\n",
    "        if checa_bancada_impositiva(row['Sequencial da Emenda'], df_bancada):\n",
    "            return 2  # Retorna 2 se a emenda for encontrada na 'Bancada Impositiva - Consulta'\n",
    "        else:\n",
    "            return 3  # Retorna 3 se a emenda não for encontrada na 'Bancada Impositiva - Consulta'"
   ]
  },
  {
   "cell_type": "code",
   "execution_count": 28,
   "id": "ad582a24",
   "metadata": {
    "lines_to_next_cell": 1
   },
   "outputs": [],
   "source": [
    "# Função para simular a fórmula de 'ID Uso'\n",
    "def calcula_id_uso(row,df_criterio):\n",
    "        \n",
    "    # Contagem condicional em 'Critério IU 6'\n",
    "    UO = int(row['UO'])\n",
    "    count_x = df_criterio['UO'].eq(UO).sum()  # Equivalente a CONT.SE('Critério IU 6'!A:A;X2)\n",
    "    last_4_of_y = row['Funcional'][-4:]  # Equivalente a DIREITA(Y2;4)\n",
    "    count_y = df_criterio['Ação'].eq(last_4_of_y).sum()  # Equivalente a CONT.SE('Critério IU 6'!B:B;DIREITA(Y2;4))\n",
    "    \n",
    "    # Condicional para retornar 6 ou 0\n",
    "    if count_x == 1 and count_y == 1:\n",
    "        return 6\n",
    "    else:\n",
    "        return 0"
   ]
  },
  {
   "cell_type": "code",
   "execution_count": 29,
   "id": "c45476c1",
   "metadata": {
    "lines_to_next_cell": 1
   },
   "outputs": [],
   "source": [
    "def calcula_parecer(row):\n",
    "    # Simula a lógica da fórmula =SE(AD2=1;1;SE(AD2=2;13;38)) onde AD2 é a coluna 'Decisão'\n",
    "    if row['Decisão Parecer'] == 1:\n",
    "        return 1\n",
    "    elif row['Decisão Parecer'] == 2:\n",
    "        return 13\n",
    "    else:\n",
    "        return 38"
   ]
  },
  {
   "cell_type": "code",
   "execution_count": 30,
   "id": "3d1722c6",
   "metadata": {
    "lines_to_next_cell": 1
   },
   "outputs": [],
   "source": [
    "def formata_dataframe(df_relator):\n",
    "    # Atualizar o dataframe original, mantendo apenas até a última linha com valor numérico.\n",
    "    # Remove a última linha de contabilização e possíveis linhas vazias ao final da tabela\n",
    "    ultima_linha_numerica = df_relator[df_relator['Emenda'].apply(lambda x: pd.to_numeric(x, errors='coerce')).notna()].index[-1]\n",
    "    df_relator = df_relator.loc[:ultima_linha_numerica].copy()\n",
    "    # Preencher células mescladas (NaN) com o último valor válido\n",
    "    df_relator = df_relator.ffill()\n",
    "    return df_relator"
   ]
  },
  {
   "cell_type": "code",
   "execution_count": 31,
   "id": "2cd2fb64",
   "metadata": {
    "lines_to_next_cell": 1
   },
   "outputs": [],
   "source": [
    "def somas_por_emendas(df_relator):\n",
    "    \n",
    "    somas_atendimento_setorial = df_relator.groupby('Emenda')['Atendimento Setorial'].sum()\n",
    "    somas_valor_solicitado = df_relator.groupby('Emenda')['Valor Solicitado'].sum()\n",
    "\n",
    "    # Adiciona essas somas como novas colunas ao dataframe original, usando o valor da emenda como referência\n",
    "    df_relator = df_relator.merge(somas_atendimento_setorial.rename('Soma Atendimento Setorial'), \n",
    "                              left_on='Emenda', right_index=True, how='left')\n",
    "    df_relator = df_relator.merge(somas_valor_solicitado.rename('Soma Valor Solicitado'), \n",
    "                              left_on='Emenda', right_index=True, how='left')\n",
    "    return df_relator"
   ]
  },
  {
   "cell_type": "code",
   "execution_count": 32,
   "id": "7fdf455b",
   "metadata": {
    "lines_to_next_cell": 1
   },
   "outputs": [],
   "source": [
    "def somas_parcelas_impositivas(df_bancada):\n",
    "\n",
    "    somas_parcela_impositiva = df_bancada.groupby('Emenda')['Valor Solicitado'].sum()\n",
    "    df_bancada = df_bancada.merge(somas_parcela_impositiva.rename('Soma Valor Solicitado'), \n",
    "                              left_on='Emenda', right_index=True, how='left')\n",
    "    \n",
    "    return df_bancada"
   ]
  },
  {
   "cell_type": "code",
   "execution_count": 33,
   "id": "d111081d",
   "metadata": {},
   "outputs": [],
   "source": [
    "def mapeia_parcelas_impositivas(df_bancada,df_relator):\n",
    "    \n",
    "    # Criar um dicionário de mapeamento a partir do DataFrame df_bancada\n",
    "    mapeamento = dict(zip(df_bancada['Emenda'], df_bancada['Soma Valor Solicitado']))\n",
    "\n",
    "    # Atualizar a coluna 'Tem parcela impositiva?' do df_relator usando o método .map()\n",
    "    # Caso não haja correspondência, preenche com '-'\n",
    "    df_relator['Tem parcela impositiva?'] = df_relator['Emenda'].map(mapeamento).fillna('-')\n",
    "\n",
    "    return df_relator"
   ]
  },
  {
   "cell_type": "code",
   "execution_count": 34,
   "id": "4b9f1081",
   "metadata": {},
   "outputs": [],
   "source": [
    "    xw.Book(\"processaemendas.xlsm\").set_mock_caller()\n",
    "    # Conectar ao livro de trabalho ativo no xlwings\n",
    "    wb = xw.Book.caller()  # Isso conecta ao arquivo Excel aberto pelo xlwings\n",
    "    sheet_plansheet = wb.sheets['Sheet1']\n",
    "    sheet_plansheet.range('A1').value = 'Gerando planilha Lexor...'\n",
    "  \n",
    "\n",
    "    # Carregar as abas como DataFrames\n",
    "    sheet_apropriacao = wb.sheets['Relator - Coletivas Apropriação']\n",
    "    sheet_criterio = wb.sheets['Critério IU 6']\n",
    "    sheet_bancada = wb.sheets['Bancada Impositiva - Consulta']\n",
    "\n",
    "    df_relator =  sheet_apropriacao.used_range.options(pd.DataFrame, index=False, header=True).value\n",
    "    df_criterio = sheet_criterio.used_range.options(pd.DataFrame, index=False, header=True).value\n",
    "    df_bancada = sheet_bancada.used_range.options(pd.DataFrame, index=False, header=True).value\n",
    "    df_bancada = df_bancada.ffill()\n",
    "\n",
    " \n",
    "   "
   ]
  },
  {
   "cell_type": "code",
   "execution_count": 35,
   "id": "79444a1d-ad3c-491e-b096-b5aaaeb0798e",
   "metadata": {},
   "outputs": [
    {
     "data": {
      "text/plain": [
       "''"
      ]
     },
     "execution_count": 35,
     "metadata": {},
     "output_type": "execute_result"
    }
   ],
   "source": [
    "df"
   ]
  },
  {
   "cell_type": "code",
   "execution_count": 36,
   "id": "4ab7bc38",
   "metadata": {},
   "outputs": [],
   "source": [
    "df_bancada = somas_parcelas_impositivas(df_bancada)\n",
    "df_relator = formata_dataframe(df_relator)"
   ]
  },
  {
   "cell_type": "code",
   "execution_count": 37,
   "id": "35d44cf3",
   "metadata": {},
   "outputs": [
    {
     "data": {
      "text/plain": [
       "''"
      ]
     },
     "execution_count": 37,
     "metadata": {},
     "output_type": "execute_result"
    }
   ],
   "source": [
    "df"
   ]
  },
  {
   "cell_type": "code",
   "execution_count": 38,
   "id": "27b5e1dc-75c3-4832-af5f-1b42b32cc153",
   "metadata": {},
   "outputs": [],
   "source": [
    "df_relator = somas_por_emendas(df_relator)\n",
    "df_relator = mapeia_parcelas_impositivas(df_bancada,df_relator)\n"
   ]
  },
  {
   "cell_type": "code",
   "execution_count": 39,
   "id": "294a4a1b-8d6a-41dc-81a4-de0785ed7a95",
   "metadata": {},
   "outputs": [
    {
     "data": {
      "text/plain": [
       "''"
      ]
     },
     "execution_count": 39,
     "metadata": {},
     "output_type": "execute_result"
    }
   ],
   "source": [
    "df\n"
   ]
  },
  {
   "cell_type": "code",
   "execution_count": null,
   "id": "3cc19c81-9a10-4326-9e65-e4113937c739",
   "metadata": {},
   "outputs": [],
   "source": [
    "    # Aplicando a função para calcular 'ID Uso'\n",
    "    df_relator['ID Uso'] = df_relator.apply(lambda row: calcula_id_uso(row,df_criterio), axis=1)\n",
    "    # Aplicando a função para calcular 'Decisão Parecer'\n",
    "    df_relator['Decisão Parecer'] = df_relator.apply(lambda row: calcula_decisao(row, df_bancada), axis=1)\n",
    "    # Aplicando a função para calcular 'Parecer'\n",
    "    df_relator['Parecer Padrão'] = df_relator.apply(lambda row: calcula_parecer(row), axis=1)\n",
    "    \n",
    "    \n",
    "   "
   ]
  },
  {
   "cell_type": "code",
   "execution_count": null,
   "id": "1222144a-cdcc-4fed-84f4-8ab911936da3",
   "metadata": {},
   "outputs": [],
   "source": [
    "    # Escrever o DataFrame `df_lexor` de volta a partir da coluna \"Sequencial da Emenda\"\n",
    "    sheet_apropriacao.range('A1').options(index=False).value = df_relator.iloc[:, :-2] # 'reset_index' evita o índice do Dataframe. Descartando as duas últimas colunas de soma criadas anteriormente\n",
    "\n",
    "    sheet_plansheet.range('A1').value = 'Planilha Lexor gerada com sucesso!'"
   ]
  },
  {
   "cell_type": "code",
   "execution_count": null,
   "id": "40f5dc55",
   "metadata": {},
   "outputs": [],
   "source": [
    "if __name__ == \"__main__\":\n",
    "    xw.Book(\"processaemendas.xlsm\").set_mock_caller()\n",
    "    main()"
   ]
  }
 ],
 "metadata": {
  "jupytext": {
   "cell_metadata_filter": "-all",
   "main_language": "python",
   "notebook_metadata_filter": "-all"
  },
  "kernelspec": {
   "display_name": "Python 3 (ipykernel)",
   "language": "python",
   "name": "python3"
  },
  "language_info": {
   "codemirror_mode": {
    "name": "ipython",
    "version": 3
   },
   "file_extension": ".py",
   "mimetype": "text/x-python",
   "name": "python",
   "nbconvert_exporter": "python",
   "pygments_lexer": "ipython3",
   "version": "3.12.7"
  }
 },
 "nbformat": 4,
 "nbformat_minor": 5
}
