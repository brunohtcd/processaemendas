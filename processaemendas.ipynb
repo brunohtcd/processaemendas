{
 "cells": [
  {
   "cell_type": "code",
   "execution_count": null,
   "id": "2fa3a1cf",
   "metadata": {},
   "outputs": [],
   "source": [
    "import xlwings as xw\n",
    "import pandas as pd\n",
    "from dataclasses import dataclass\n",
    "from typing import Optional\n",
    "from enum import Enum"
   ]
  },
  {
   "cell_type": "code",
   "execution_count": null,
   "id": "34366d6f",
   "metadata": {},
   "outputs": [],
   "source": []
  },
  {
   "cell_type": "code",
   "execution_count": null,
   "id": "5853733f",
   "metadata": {},
   "outputs": [],
   "source": [
    "# Constantes para nomes de planilhas\n",
    "PLANILHA_RELATOR = 'Relator - Coletivas Apropriação'\n",
    "PLANILHA_CRITERIO = 'Critério IU 6'\n",
    "PLANILHA_BANCADA = 'Bancada Impositiva - Consulta'\n",
    "PLANILHA_BOTAO = 'Sheet1'"
   ]
  },
  {
   "cell_type": "code",
   "execution_count": null,
   "id": "aa84fb4b",
   "metadata": {},
   "outputs": [],
   "source": []
  },
  {
   "cell_type": "code",
   "execution_count": null,
   "id": "9405caad",
   "metadata": {},
   "outputs": [],
   "source": [
    "class Parecer(Enum):\n",
    "    \"\"\"\n",
    "    Enum que representa os diferentes pareceres que podem ser atribuídos a uma emenda.\n",
    "    \"\"\"\n",
    "    APROVACAO = 1\n",
    "    APROVACAO_PARCIAL = 13 \n",
    "    REJEICAO = 38 "
   ]
  },
  {
   "cell_type": "code",
   "execution_count": null,
   "id": "cf680265",
   "metadata": {
    "lines_to_next_cell": 1
   },
   "outputs": [],
   "source": [
    "class Decisao(Enum):\n",
    "    \"\"\"\n",
    "    Enum que representa as diferentes decisões que podem ser tomadas para uma emenda.\n",
    "    \"\"\"\n",
    "    APROVACAO = 1\n",
    "    APROVACAO_PARCIAL = 2\n",
    "    REJEICAO = 3"
   ]
  },
  {
   "cell_type": "code",
   "execution_count": null,
   "id": "874d89cb",
   "metadata": {},
   "outputs": [],
   "source": [
    "# Dicionário que mapeia cada parecer para a decisão correspondente\n",
    "DECISAO_PARA_PARECER = {\n",
    "    Decisao.APROVACAO: Parecer.APROVACAO,\n",
    "    Decisao.APROVACAO_PARCIAL: Parecer.APROVACAO_PARCIAL,\n",
    "    Decisao.REJEICAO: Parecer.REJEICAO\n",
    "}"
   ]
  },
  {
   "cell_type": "code",
   "execution_count": null,
   "id": "402e2cf8",
   "metadata": {},
   "outputs": [],
   "source": [
    "# Função para verificar se a emenda está na 'Bancada Impositiva - Consulta'\n",
    "def checa_bancada_impositiva(linha: pd.Series, df_bancada: pd.DataFrame) -> bool:\n",
    "    \"\"\"\n",
    "    Verifica se uma emenda está presente na planilha 'Bancada Impositiva - Consulta'.\n",
    "    \n",
    "    Args:\n",
    "        emenda (str): O código da emenda a ser verificada.\n",
    "        df_bancada (pd.DataFrame): DataFrame contendo as informações da bancada impositiva.\n",
    "    \n",
    "    Returns:\n",
    "        bool: True se a emenda estiver presente, False caso contrário.\n",
    "    \"\"\"\n",
    "    return linha['Emenda'] in df_bancada['Emenda'].values"
   ]
  },
  {
   "cell_type": "code",
   "execution_count": null,
   "id": "a8384497",
   "metadata": {},
   "outputs": [],
   "source": []
  },
  {
   "cell_type": "code",
   "execution_count": null,
   "id": "1b8a9bac",
   "metadata": {},
   "outputs": [],
   "source": [
    "# Função para calcular a 'Decisão' de acordo com a lógica fornecida\n",
    "def calcula_decisao(linha: pd.Series, df_bancada: pd.DataFrame) -> Decisao:\n",
    "    \"\"\"\n",
    "    Calcula a decisão de uma emenda com base em regras de atendimento setorial e presença na bancada impositiva.\n",
    "    Em resumo, a fórmula retornará:\n",
    "    1 se a soma em 'Atendimento Setorial' for igual à soma em 'Atendimento Setorial' (e ambas não forem zero), ou seja, se valor solicitado for = aprovado, então emenda aprovada;\n",
    "    2 se a soma em 'Atendimento Setorial' for diferente de 'Atendimento Setorial' (mas não zero), ou se a emenda for encontrado na planilha de impositivas \n",
    "      (ou seja, aprovado parcial se atendido for menor que solicitado ou, se valor atendido discricionária for zero, se a emenda tiver parcela impositiva)\n",
    "    3 se a soma em 'Atendimento Setorial' for zero e A2 não for encontrado na outra planilha (ou seja, emenda rejeitada)\n",
    "    \n",
    "    Args:\n",
    "        emenda (Emenda): Objeto Emenda contendo os dados da emenda.\n",
    "        df_bancada (pd.DataFrame): DataFrame contendo as informações da bancada impositiva.\n",
    "    \n",
    "    Returns:\n",
    "        Parecer: Enum indicando o parecer (APROVACAO, APROVACAO_PARCIAL, REJEICAO).\n",
    "    \"\"\"\n",
    "    if linha['Soma Atendimento Setorial'] != 0:\n",
    "        if linha['Soma Atendimento Setorial'] == linha['Soma Valor Solicitado']:\n",
    "            return Decisao.APROVACAO\n",
    "        else:\n",
    "            return Decisao.APROVACAO_PARCIAL\n",
    "    else:\n",
    "        if checa_bancada_impositiva(linha, df_bancada):\n",
    "            return Decisao.APROVACAO_PARCIAL\n",
    "        else:\n",
    "            return Decisao.REJEICAO"
   ]
  },
  {
   "cell_type": "code",
   "execution_count": null,
   "id": "9d152ed5",
   "metadata": {
    "lines_to_next_cell": 1
   },
   "outputs": [],
   "source": [
    "def calcula_id_uso(linha: pd.Series, df_criterio: pd.DataFrame) -> int:\n",
    "    \"\"\"\n",
    "    Calcula o ID de uso para uma emenda com base em critérios de UO e funcional presentes na tabela de critério.\n",
    "    \n",
    "    Args:\n",
    "        emenda (Emenda): Objeto Emenda contendo os dados da emenda.\n",
    "        df_criterio (pd.DataFrame): DataFrame contendo os critérios de uso.\n",
    "    \n",
    "    Returns:\n",
    "        int: ID de uso (6 ou 0).\n",
    "    \"\"\"\n",
    "\n",
    "    count_uo = df_criterio['UO'].eq(int(linha['UO'])).sum()\n",
    "    acao = linha['Funcional'][-4:]\n",
    "    count_acao = df_criterio['Ação'].eq(acao).sum()\n",
    "    \n",
    "    # Condicional para retornar 6 ou 0\n",
    "    if count_uo == 1 and count_uo == 1:\n",
    "        return 6\n",
    "    else:\n",
    "        return 0"
   ]
  },
  {
   "cell_type": "code",
   "execution_count": null,
   "id": "4796df8f",
   "metadata": {
    "lines_to_next_cell": 1
   },
   "outputs": [],
   "source": [
    "def calcula_parecer(decisao_parecer: Decisao) -> Parecer:\n",
    "    \"\"\"\n",
    "    Mapeia a decisão para um parecer correspondente.\n",
    "    \n",
    "    Args:\n",
    "        decisao_parecer (Decisao): Enum indicando a Decisao.\n",
    "    \n",
    "    Returns:\n",
    "        Decisao: Enum indicando o parecer correspondente a Decisao.\n",
    "    \"\"\"\n",
    "    return DECISAO_PARA_PARECER[decisao_parecer]"
   ]
  },
  {
   "cell_type": "code",
   "execution_count": null,
   "id": "fa0125b7",
   "metadata": {
    "lines_to_next_cell": 1
   },
   "outputs": [],
   "source": [
    "def formata_dataframe(df):\n",
    "    \"\"\"\n",
    "      Atualiza o dataframe original, mantendo apenas até a última linha com valor numérico.\n",
    "      Remove a última linha de contabilização e possíveis linhas vazias ao final da tabela\n",
    "      Preenche células mescladas (NaN) com o último valor válido\n",
    "    Args:\n",
    "        df (pd.DataFrame): DataFrame a ser formatado.\n",
    "    \n",
    "    Returns:\n",
    "        pd.DataFrame: DataFrame formatado.\n",
    "    \"\"\"\n",
    "    \n",
    "    ultima_linha_numerica = df[df['Emenda'].apply(lambda x: pd.to_numeric(x, errors='coerce')).notna()].index[-1]\n",
    "    df = df.loc[:ultima_linha_numerica].copy()\n",
    "    \n",
    "    df = df.ffill()\n",
    "    return df"
   ]
  },
  {
   "cell_type": "code",
   "execution_count": null,
   "id": "91f31b56",
   "metadata": {
    "lines_to_next_cell": 1
   },
   "outputs": [],
   "source": [
    "def somas_por_emendas(df_relator):\n",
    "    \"\"\"\n",
    "    Calcula as somas de atendimento setorial e valor solicitado para cada emenda.\n",
    "    \n",
    "    Args:\n",
    "        df_relator (pd.DataFrame): DataFrame contendo os dados das emendas.\n",
    "    \n",
    "    Returns:\n",
    "        pd.DataFrame: DataFrame atualizado com colunas de soma para atendimento setorial e valor solicitado.\n",
    "    \"\"\"\n",
    "    \n",
    "    somas_atendimento_setorial = df_relator.groupby('Emenda')['Atendimento Setorial'].sum()\n",
    "    somas_valor_solicitado = df_relator.groupby('Emenda')['Valor Solicitado'].sum()\n",
    "\n",
    "    # Adiciona essas somas como novas colunas ao dataframe original, usando o valor da emenda como referência\n",
    "    df_relator = df_relator.merge(somas_atendimento_setorial.rename('Soma Atendimento Setorial'), \n",
    "                              left_on='Emenda', right_index=True, how='left')\n",
    "    df_relator = df_relator.merge(somas_valor_solicitado.rename('Soma Valor Solicitado'), \n",
    "                              left_on='Emenda', right_index=True, how='left')\n",
    "    return df_relator"
   ]
  },
  {
   "cell_type": "code",
   "execution_count": null,
   "id": "26f7f3d7",
   "metadata": {
    "lines_to_next_cell": 1
   },
   "outputs": [],
   "source": [
    "def somas_parcelas_impositivas(df_bancada):\n",
    "    \"\"\"\n",
    "    Calcula a soma dos valores solicitados para cada emenda na bancada impositiva.\n",
    "    \n",
    "    Args:\n",
    "        df_bancada (pd.DataFrame): DataFrame contendo os dados da bancada impositiva.\n",
    "    \n",
    "    Returns:\n",
    "        pd.DataFrame: DataFrame atualizado com a coluna de soma de valores solicitados.\n",
    "    \"\"\"\n",
    "    somas_parcela_impositiva = df_bancada.groupby('Emenda')['Valor Solicitado'].sum()\n",
    "    df_bancada = df_bancada.merge(somas_parcela_impositiva.rename('Soma Valor Solicitado'), \n",
    "                              left_on='Emenda', right_index=True, how='left')\n",
    "    \n",
    "    return df_bancada"
   ]
  },
  {
   "cell_type": "code",
   "execution_count": null,
   "id": "591ff4d6",
   "metadata": {
    "lines_to_next_cell": 1
   },
   "outputs": [],
   "source": [
    "def mapeia_parcelas_impositivas(df_bancada,df_relator):\n",
    "    \"\"\"\n",
    "    Mapeia parcelas impositivas do DataFrame da bancada para o DataFrame do relator.\n",
    "    \n",
    "    Args:\n",
    "        df_bancada (pd.DataFrame): DataFrame contendo os dados da bancada impositiva.\n",
    "        df_relator (pd.DataFrame): DataFrame contendo os dados do relator.\n",
    "    \n",
    "    Returns:\n",
    "        pd.DataFrame: DataFrame do relator atualizado com a coluna de parcelas impositivas.\n",
    "    \"\"\"\n",
    "    # Criar um dicionário de mapeamento a partir do DataFrame df_bancada\n",
    "    mapeamento = dict(zip(df_bancada['Emenda'], df_bancada['Soma Valor Solicitado']))\n",
    "\n",
    "    # Atualizar a coluna 'Tem parcela impositiva?' do df_relator usando o método .map()\n",
    "    # Caso não haja correspondência, preenche com '-'\n",
    "    df_relator['Tem parcela impositiva?'] = df_relator['Emenda'].map(mapeamento).fillna('-')\n",
    "\n",
    "    return df_relator"
   ]
  },
  {
   "cell_type": "code",
   "execution_count": null,
   "id": "a93eaa2d",
   "metadata": {
    "lines_to_next_cell": 1
   },
   "outputs": [],
   "source": [
    "def processa_emenda(linha: pd.Series, df_criterio: pd.DataFrame, df_bancada: pd.DataFrame) -> pd.Series:\n",
    "    \"\"\"\n",
    "    Processa uma linha do DataFrame, calculando ID de uso, decisão do parecer e parecer padrão.\n",
    "    \n",
    "    Args:\n",
    "        row (pd.Series): Linha do DataFrame contendo os dados da emenda.\n",
    "        df_criterio (pd.DataFrame): DataFrame contendo os critérios de uso.\n",
    "        df_bancada (pd.DataFrame): DataFrame contendo os dados da bancada impositiva.\n",
    "    \n",
    "    Returns:\n",
    "        pd.Series: Linha atualizada com as novas colunas calculadas.\n",
    "    \"\"\"\n",
    "   \n",
    "    linha['ID Uso'] = calcula_id_uso(linha, df_criterio)\n",
    "    linha['Decisão Parecer'] = calcula_decisao(linha, df_bancada)\n",
    "    linha['Parecer Padrão'] = calcula_parecer(linha['Decisão Parecer'])\n",
    "    linha['Valor'] = linha['Atendimento Setorial']\n",
    "    \n",
    "    return linha"
   ]
  },
  {
   "cell_type": "code",
   "execution_count": null,
   "id": "478e4232",
   "metadata": {
    "lines_to_next_cell": 1
   },
   "outputs": [],
   "source": [
    "def processa_emenda_bancada(linha: pd.Series, df_criterio: pd.DataFrame, df_bancada: None) -> pd.Series:\n",
    "    \"\"\"\n",
    "    Processa uma linha do DataFrame, calculando ID de uso, decisão do parecer e parecer padrão.\n",
    "    \n",
    "    Args:\n",
    "        row (pd.Series): Linha do DataFrame contendo os dados da emenda.\n",
    "        df_criterio (pd.DataFrame): DataFrame contendo os critérios de uso.\n",
    "        df_bancada (pd.DataFrame): DataFrame contendo os dados da bancada impositiva.\n",
    "    \n",
    "    Returns:\n",
    "        pd.Series: Linha atualizada com as novas colunas calculadas.\n",
    "    \"\"\"\n",
    "   \n",
    "    \n",
    "    \n",
    "    linha['ID Uso'] = calcula_id_uso(linha, df_criterio)\n",
    "    linha['Decisão Parecer'] = Decisao.APROVACAO\n",
    "    linha['Parecer Padrão'] = linha['Decisão Parecer']\n",
    "    linha['Valor'] = linha['Atendimento Setorial']\n",
    "    \n",
    "    return linha"
   ]
  },
  {
   "cell_type": "code",
   "execution_count": null,
   "id": "7819da23",
   "metadata": {},
   "outputs": [],
   "source": [
    "def processa_emendas(df: pd.DataFrame, df_criterio: pd.DataFrame, df_bancada: pd.DataFrame, funcao_processamento: callable) -> pd.DataFrame:\n",
    "    \"\"\"\n",
    "    Processa todas as emendas no DataFrame do relator.\n",
    "    \n",
    "    Args:\n",
    "        df_relator (pd.DataFrame): DataFrame contendo os dados das emendas do relator.\n",
    "        df_criterio (pd.DataFrame): DataFrame contendo os critérios de uso.\n",
    "        df_bancada (pd.DataFrame): DataFrame contendo os dados da bancada impositiva.\n",
    "    \n",
    "    Returns:\n",
    "        pd.DataFrame: DataFrame do relator atualizado com as novas colunas calculadas.\n",
    "    \"\"\"\n",
    "    return df.apply(funcao_processamento, axis=1, args=(df_criterio, df_bancada))"
   ]
  },
  {
   "cell_type": "code",
   "execution_count": null,
   "id": "3b82ff56",
   "metadata": {},
   "outputs": [],
   "source": [
    "def main():\n",
    "    \"\"\"\n",
    "    Função principal para carregar os dados das planilhas, processar as emendas e atualizar as planilhas.\n",
    "    \"\"\"\n",
    "    # Conectar ao livro de trabalho ativo no xlwings\n",
    "    wb = xw.Book.caller()  # Isso conecta ao arquivo Excel aberto pelo xlwings\n",
    "    sheet_plansheet = wb.sheets[PLANILHA_BOTAO]\n",
    "    sheet_plansheet.range('A1').value = 'Gerando planilha Lexor...'\n",
    "  \n",
    "\n",
    "    # Carregar as abas \n",
    "    sheet_apropriacao = wb.sheets[PLANILHA_RELATOR]\n",
    "    sheet_criterio = wb.sheets[PLANILHA_CRITERIO]\n",
    "    sheet_bancada = wb.sheets[PLANILHA_BANCADA]\n",
    "    # Carregar as abas como DataFrames pandas\n",
    "    df_relator =  sheet_apropriacao.used_range.options(pd.DataFrame, index=False, header=True).value\n",
    "    df_criterio = sheet_criterio.used_range.options(pd.DataFrame, index=False, header=True).value\n",
    "    df_bancada = sheet_bancada.used_range.options(pd.DataFrame, index=False, header=True).value\n",
    "    \n",
    "\n",
    "    # Formate dataframes\n",
    "    df_bancada = formata_dataframe(df_bancada)\n",
    "    df_relator = formata_dataframe(df_relator)\n",
    "    # Realiza calulos auxiliares\n",
    "    df_bancada = somas_parcelas_impositivas(df_bancada)\n",
    "    df_relator = somas_por_emendas(df_relator)\n",
    "    df_relator = mapeia_parcelas_impositivas(df_bancada,df_relator)\n",
    "    # Processa todas as emendas \n",
    "    df_relator = processa_emendas(df_relator, df_criterio, df_bancada, processa_emenda)\n",
    "    # processa emendas de banada\n",
    "    df_bancada = processa_emendas(df_bancada, df_criterio, None, processa_emenda_bancada)\n",
    "\n",
    "    \n",
    "    \n",
    "    # Escrever o DataFrame `df_relator de volta na planilha original\n",
    "    sheet_apropriacao.range('A1').options(index=False).value = df_relator.iloc[:, :-2] # 'reset_index' evita o índice do Dataframe. Descartando as duas últimas colunas de soma criadas anteriormente\n",
    "    # Escrever o DataFrame `df_relator de volta na planilha original\n",
    "    sheet_bancada.range('A1').options(index=False).value = df_bancada.iloc[:,:-1] #Descartando a última coluna de soma de valor solicitado por emenda criada anteriormente\n",
    "\n",
    "\n",
    "    sheet_plansheet.range('A1').value = 'Planilha Lexor gerada com sucesso!'"
   ]
  },
  {
   "cell_type": "code",
   "execution_count": null,
   "id": "390fd29d",
   "metadata": {},
   "outputs": [],
   "source": []
  },
  {
   "cell_type": "code",
   "execution_count": null,
   "id": "af4e6ff7",
   "metadata": {},
   "outputs": [],
   "source": []
  },
  {
   "cell_type": "code",
   "execution_count": null,
   "id": "4ac6bf2d",
   "metadata": {},
   "outputs": [],
   "source": [
    "if __name__ == \"__main__\":\n",
    "    xw.Book(\"processaemendas.xlsm\").set_mock_caller()\n",
    "    main()"
   ]
  }
 ],
 "metadata": {
  "jupytext": {
   "cell_metadata_filter": "-all",
   "main_language": "python",
   "notebook_metadata_filter": "-all"
  }
 },
 "nbformat": 4,
 "nbformat_minor": 5
}
